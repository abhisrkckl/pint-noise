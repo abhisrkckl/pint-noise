{
 "cells": [
  {
   "cell_type": "markdown",
   "id": "293a5511",
   "metadata": {},
   "source": [
    "## Notebook for creating Simulation 3\n",
    "\n",
    "See Section 6.3 of Susobhanan+ 2024."
   ]
  },
  {
   "cell_type": "code",
   "execution_count": 28,
   "id": "9c50c4d8",
   "metadata": {},
   "outputs": [],
   "source": [
    "from pint.models import get_model, get_model_and_toas\n",
    "from pint.simulation import make_fake_toas_fromtim\n",
    "from pint.logging import setup as setup_log\n",
    "from pint.utils import wavex_setup, plrednoise_from_wavex\n",
    "from pint.fitter import WLSFitter\n",
    "\n",
    "from io import StringIO\n",
    "import numpy as np\n",
    "import astropy.units as u\n",
    "from copy import deepcopy\n",
    "\n",
    "from joblib import Parallel, delayed"
   ]
  },
  {
   "cell_type": "code",
   "execution_count": 29,
   "id": "fa228892-6831-43b6-ac0f-7de3bbda2302",
   "metadata": {},
   "outputs": [
    {
     "data": {
      "text/plain": [
       "2"
      ]
     },
     "execution_count": 29,
     "metadata": {},
     "output_type": "execute_result"
    }
   ],
   "source": [
    "setup_log(level=\"WARNING\")"
   ]
  },
  {
   "cell_type": "code",
   "execution_count": 30,
   "id": "be4ab8b0-e84b-4291-ac44-183dff128bae",
   "metadata": {},
   "outputs": [],
   "source": [
    "par_sim = \"\"\"\n",
    "    PSR           SIM3\n",
    "    RAJ           05:00:00     1\n",
    "    DECJ          15:00:00     1\n",
    "    PEPOCH        55000\n",
    "    F0            100          1\n",
    "    F1            -1e-15       1 \n",
    "    PHOFF         0            1\n",
    "    DM            15           1\n",
    "    TNREDAMP      -13\n",
    "    TNREDGAM      3.5\n",
    "    TNREDC        30\n",
    "    TZRMJD        55000\n",
    "    TZRFRQ        1400 \n",
    "    TZRSITE       gbt\n",
    "    UNITS         TDB\n",
    "    EPHEM         DE440\n",
    "    CLOCK         TT(BIPM2019)\n",
    "\"\"\""
   ]
  },
  {
   "cell_type": "code",
   "execution_count": 31,
   "id": "369a4c22-ea0b-4922-bc08-db73da412373",
   "metadata": {},
   "outputs": [],
   "source": [
    "m0 = get_model(StringIO(par_sim))"
   ]
  },
  {
   "cell_type": "code",
   "execution_count": 32,
   "id": "b163346e-6dc9-497e-a1e1-fc8e497a95cd",
   "metadata": {},
   "outputs": [],
   "source": [
    "nharm_opt = 17"
   ]
  },
  {
   "cell_type": "code",
   "execution_count": 33,
   "id": "b4deefb9-3e7e-4073-bcbe-59a3c85a1770",
   "metadata": {},
   "outputs": [],
   "source": [
    "m1, t = get_model_and_toas(\"sim3.wx1.par\", \"sim3.tim\")"
   ]
  },
  {
   "cell_type": "code",
   "execution_count": 34,
   "id": "9d702ec9-01f1-43c3-9a7a-37ce217293c0",
   "metadata": {},
   "outputs": [
    {
     "data": {
      "text/plain": [
       "2034.3447990774315404"
      ]
     },
     "execution_count": 34,
     "metadata": {},
     "output_type": "execute_result"
    }
   ],
   "source": [
    "Tspan = t.get_mjds().max() - t.get_mjds().min()\n",
    "\n",
    "idxs = m1.components[\"WaveX\"].get_indices()\n",
    "for idx in reversed(idxs):\n",
    "    if idx > nharm_opt:\n",
    "        m1.components[\"WaveX\"].remove_wavex_component(idx)\n",
    "\n",
    "ftr = WLSFitter(t, m1)\n",
    "ftr.fit_toas(maxiter=5)"
   ]
  },
  {
   "cell_type": "code",
   "execution_count": 35,
   "id": "bb9c4d38-7db3-4b3d-812c-f6e376d047d6",
   "metadata": {},
   "outputs": [
    {
     "name": "stdout",
     "output_type": "stream",
     "text": [
      "# Created: 2024-05-27T16:23:39.235470\n",
      "# PINT_version: 1.0+226.g659c08ce\n",
      "# User: Abhimanyu Susobhanan (abhimanyu)\n",
      "# Host: abhimanyu-HP-Envy-x360-2-in-1-Laptop-15-fh0xxx\n",
      "# OS: Linux-6.5.0-35-generic-x86_64-with-glibc2.35\n",
      "# Python: 3.12.0 | packaged by Anaconda, Inc. | (main, Oct  2 2023, 17:29:18) [GCC 11.2.0]\n",
      "# Format: pint\n",
      "PSR                                  SIM3\n",
      "EPHEM                               DE440\n",
      "CLOCK                        TT(BIPM2019)\n",
      "UNITS                                 TDB\n",
      "START              53000.9999999566487616\n",
      "FINISH             56985.0000000463726042\n",
      "DILATEFREQ                              N\n",
      "DMDATA                                  N\n",
      "NTOA                                 2000\n",
      "CHI2                   2034.3447990774316\n",
      "CHI2R                  1.0384608469001693\n",
      "TRES                1.0166290032666464267\n",
      "RAJ                      5:00:00.00017315 1 0.00011139189982086978\n",
      "DECJ                    14:59:59.98792426 1 0.01183671859058394935\n",
      "PMRA                                  0.0\n",
      "PMDEC                                 0.0\n",
      "PX                                    0.0\n",
      "F0                  100.00000000000059162 1 5.209279943996578139e-13\n",
      "F1              -9.9990078990613464165e-16 1 1.8319011303333458044e-19\n",
      "F2                                    0.0\n",
      "PEPOCH             55000.0000000000000000\n",
      "PLANET_SHAPIRO                          N\n",
      "DM                  15.000001272901097671 1 4.840545653196905492e-06\n",
      "DM1                                   0.0\n",
      "WXEPOCH            55000.0000000000000000\n",
      "WXFREQ_0001          0.000251004016058604\n",
      "WXSIN_0001           -6.2089523354346e-06 1 5.839770492204151e-07\n",
      "WXCOS_0001        -3.2234402186013785e-06 1 1.106801686696987e-05\n",
      "WXFREQ_0002          0.000502008032117208\n",
      "WXSIN_0002         3.6516272634512316e-06 1 2.9551854939561454e-07\n",
      "WXCOS_0002          3.354603341585254e-07 1 2.8131461145506807e-06\n",
      "WXFREQ_0003         0.0007530120481758118\n",
      "WXSIN_0003           1.23365508423732e-07 1 2.0566883342525942e-07\n",
      "WXCOS_0003         -7.980919775160358e-07 1 1.2905592476253893e-06\n",
      "WXFREQ_0004          0.001004016064234416\n",
      "WXSIN_0004          6.443868618877371e-07 1 1.6519578227072298e-07\n",
      "WXCOS_0004         2.0358284471280024e-07 1 7.602007826330381e-07\n",
      "WXFREQ_0005         0.0012550200802930198\n",
      "WXSIN_0005        -2.4289625008676327e-07 1 1.433284260513615e-07\n",
      "WXCOS_0005         -6.447550997897012e-07 1 5.20286895548259e-07\n",
      "WXFREQ_0006         0.0015060240963516236\n",
      "WXSIN_0006         -3.948625828035072e-07 1 1.3327921736926479e-07\n",
      "WXCOS_0006         -2.422106115704153e-07 1 3.9592948749551874e-07\n",
      "WXFREQ_0007         0.0017570281124102277\n",
      "WXSIN_0007         4.0308553578950453e-07 1 1.3297196159162268e-07\n",
      "WXCOS_0007         4.0935202287185654e-08 1 3.323847301778186e-07\n",
      "WXFREQ_0008          0.002008032128468832\n",
      "WXSIN_0008         -4.673590629012593e-07 1 1.4548330382513709e-07\n",
      "WXCOS_0008          3.816125541311913e-07 1 3.0986634632465496e-07\n",
      "WXFREQ_0009         0.0022590361445274354\n",
      "WXSIN_0009         2.5744410207037643e-07 1 1.8023476815890196e-07\n",
      "WXCOS_0009        -2.9166319457894305e-07 1 3.3415033123471785e-07\n",
      "WXFREQ_0010         0.0025100401605860395\n",
      "WXSIN_0010         -5.099410084117731e-07 1 3.1180456818103347e-07\n",
      "WXCOS_0010          4.110528676310551e-07 1 5.096250498488418e-07\n",
      "WXFREQ_0011         0.0027610441766446436\n",
      "WXSIN_0011         -3.611193082435492e-06 1 2.5694481281338037e-06\n",
      "WXCOS_0011           3.38610728820673e-06 1 3.6662057623460084e-06\n",
      "WXFREQ_0012         0.0030120481927032473\n",
      "WXSIN_0012         1.9875362739569965e-07 1 1.8814605715248268e-07\n",
      "WXCOS_0012        -2.6388269956749964e-07 1 2.3415113476935531e-07\n",
      "WXFREQ_0013         0.0032630522087618513\n",
      "WXSIN_0013        -1.1752967356136787e-07 1 8.814776432279962e-08\n",
      "WXCOS_0013         2.1498563455559439e-07 1 9.761376725426668e-08\n",
      "WXFREQ_0014         0.0035140562248204554\n",
      "WXSIN_0014          2.292653590678774e-07 1 5.777336208301919e-08\n",
      "WXCOS_0014         -7.866521121698605e-08 1 5.7843011870322354e-08\n",
      "WXFREQ_0015          0.003765060240879059\n",
      "WXSIN_0015         -7.180939994440868e-10 1 4.509681746161361e-08\n",
      "WXCOS_0015          1.012212692601177e-07 1 4.319072565407873e-08\n",
      "WXFREQ_0016          0.004016064256937664\n",
      "WXSIN_0016         1.5002870685890397e-07 1 3.9051887470091723e-08\n",
      "WXCOS_0016         -5.765464355346351e-08 1 3.8058905748254694e-08\n",
      "WXFREQ_0017          0.004267068272996267\n",
      "WXSIN_0017         -5.016631784034989e-08 1 3.568965709053362e-08\n",
      "WXCOS_0017         -8.218350709439241e-08 1 3.5552459539337764e-08\n",
      "TZRMJD             55000.0000000000000000\n",
      "TZRSITE                               gbt\n",
      "TZRFRQ                             1400.0\n",
      "PHOFF              0.00010290184940859608 1 0.0009155529574258702\n",
      "\n"
     ]
    }
   ],
   "source": [
    "print(ftr.model)"
   ]
  },
  {
   "cell_type": "code",
   "execution_count": 41,
   "id": "1f9a3e96-6910-493e-b6c1-ea646eb36817",
   "metadata": {},
   "outputs": [],
   "source": [
    "def simulate_and_measure():\n",
    "    setup_log(level=\"WARNING\")\n",
    "    \n",
    "    t = make_fake_toas_fromtim(\n",
    "        \"sim3.tim\",\n",
    "        m0,\n",
    "        add_noise=True,\n",
    "        add_correlated_noise=True,\n",
    "        name=\"fake\",\n",
    "    )\n",
    "\n",
    "    try:\n",
    "        ftr = WLSFitter(t, m1)\n",
    "        ftr.fit_toas(maxiter=6)\n",
    "    \n",
    "        m_pint_1 = plrednoise_from_wavex(ftr.model)\n",
    "    \n",
    "        print(\n",
    "            m_pint_1.TNREDAMP.value,\n",
    "            m_pint_1.TNREDGAM.value\n",
    "        )\n",
    "        \n",
    "        return (\n",
    "            m_pint_1.TNREDAMP.value,\n",
    "            m_pint_1.TNREDGAM.value\n",
    "        )\n",
    "    except:\n",
    "        return np.nan, np.nan"
   ]
  },
  {
   "cell_type": "code",
   "execution_count": 42,
   "id": "5c64bf48-54a7-4a90-83b0-f6a44cc76dd3",
   "metadata": {},
   "outputs": [
    {
     "ename": "KeyboardInterrupt",
     "evalue": "",
     "output_type": "error",
     "traceback": [
      "\u001b[0;31m---------------------------------------------------------------------------\u001b[0m",
      "\u001b[0;31mKeyboardInterrupt\u001b[0m                         Traceback (most recent call last)",
      "File \u001b[0;32m~/miniconda3/envs/pint-devel/lib/python3.12/site-packages/joblib/parallel.py:1650\u001b[0m, in \u001b[0;36mParallel._get_outputs\u001b[0;34m(self, iterator, pre_dispatch)\u001b[0m\n\u001b[1;32m   1649\u001b[0m     \u001b[38;5;28;01mwith\u001b[39;00m \u001b[38;5;28mself\u001b[39m\u001b[38;5;241m.\u001b[39m_backend\u001b[38;5;241m.\u001b[39mretrieval_context():\n\u001b[0;32m-> 1650\u001b[0m         \u001b[38;5;28;01myield from\u001b[39;00m \u001b[38;5;28mself\u001b[39m\u001b[38;5;241m.\u001b[39m_retrieve()\n\u001b[1;32m   1652\u001b[0m \u001b[38;5;28;01mexcept\u001b[39;00m \u001b[38;5;167;01mGeneratorExit\u001b[39;00m:\n\u001b[1;32m   1653\u001b[0m     \u001b[38;5;66;03m# The generator has been garbage collected before being fully\u001b[39;00m\n\u001b[1;32m   1654\u001b[0m     \u001b[38;5;66;03m# consumed. This aborts the remaining tasks if possible and warn\u001b[39;00m\n\u001b[1;32m   1655\u001b[0m     \u001b[38;5;66;03m# the user if necessary.\u001b[39;00m\n",
      "File \u001b[0;32m~/miniconda3/envs/pint-devel/lib/python3.12/site-packages/joblib/parallel.py:1762\u001b[0m, in \u001b[0;36mParallel._retrieve\u001b[0;34m(self)\u001b[0m\n\u001b[1;32m   1759\u001b[0m \u001b[38;5;28;01mif\u001b[39;00m ((\u001b[38;5;28mlen\u001b[39m(\u001b[38;5;28mself\u001b[39m\u001b[38;5;241m.\u001b[39m_jobs) \u001b[38;5;241m==\u001b[39m \u001b[38;5;241m0\u001b[39m) \u001b[38;5;129;01mor\u001b[39;00m\n\u001b[1;32m   1760\u001b[0m     (\u001b[38;5;28mself\u001b[39m\u001b[38;5;241m.\u001b[39m_jobs[\u001b[38;5;241m0\u001b[39m]\u001b[38;5;241m.\u001b[39mget_status(\n\u001b[1;32m   1761\u001b[0m         timeout\u001b[38;5;241m=\u001b[39m\u001b[38;5;28mself\u001b[39m\u001b[38;5;241m.\u001b[39mtimeout) \u001b[38;5;241m==\u001b[39m TASK_PENDING)):\n\u001b[0;32m-> 1762\u001b[0m     \u001b[43mtime\u001b[49m\u001b[38;5;241;43m.\u001b[39;49m\u001b[43msleep\u001b[49m\u001b[43m(\u001b[49m\u001b[38;5;241;43m0.01\u001b[39;49m\u001b[43m)\u001b[49m\n\u001b[1;32m   1763\u001b[0m     \u001b[38;5;28;01mcontinue\u001b[39;00m\n",
      "\u001b[0;31mKeyboardInterrupt\u001b[0m: ",
      "\nDuring handling of the above exception, another exception occurred:\n",
      "\u001b[0;31mKeyboardInterrupt\u001b[0m                         Traceback (most recent call last)",
      "Cell \u001b[0;32mIn[42], line 1\u001b[0m\n\u001b[0;32m----> 1\u001b[0m results \u001b[38;5;241m=\u001b[39m \u001b[43mParallel\u001b[49m\u001b[43m(\u001b[49m\u001b[43mn_jobs\u001b[49m\u001b[38;5;241;43m=\u001b[39;49m\u001b[38;5;241;43m8\u001b[39;49m\u001b[43m)\u001b[49m\u001b[43m(\u001b[49m\u001b[43mdelayed\u001b[49m\u001b[43m(\u001b[49m\u001b[43msimulate_and_measure\u001b[49m\u001b[43m)\u001b[49m\u001b[43m(\u001b[49m\u001b[43m)\u001b[49m\u001b[43m \u001b[49m\u001b[38;5;28;43;01mfor\u001b[39;49;00m\u001b[43m \u001b[49m\u001b[43mi\u001b[49m\u001b[43m \u001b[49m\u001b[38;5;129;43;01min\u001b[39;49;00m\u001b[43m \u001b[49m\u001b[38;5;28;43mrange\u001b[39;49m\u001b[43m(\u001b[49m\u001b[38;5;241;43m500\u001b[39;49m\u001b[43m)\u001b[49m\u001b[43m)\u001b[49m\n",
      "File \u001b[0;32m~/miniconda3/envs/pint-devel/lib/python3.12/site-packages/joblib/parallel.py:2007\u001b[0m, in \u001b[0;36mParallel.__call__\u001b[0;34m(self, iterable)\u001b[0m\n\u001b[1;32m   2001\u001b[0m \u001b[38;5;66;03m# The first item from the output is blank, but it makes the interpreter\u001b[39;00m\n\u001b[1;32m   2002\u001b[0m \u001b[38;5;66;03m# progress until it enters the Try/Except block of the generator and\u001b[39;00m\n\u001b[1;32m   2003\u001b[0m \u001b[38;5;66;03m# reaches the first `yield` statement. This starts the asynchronous\u001b[39;00m\n\u001b[1;32m   2004\u001b[0m \u001b[38;5;66;03m# dispatch of the tasks to the workers.\u001b[39;00m\n\u001b[1;32m   2005\u001b[0m \u001b[38;5;28mnext\u001b[39m(output)\n\u001b[0;32m-> 2007\u001b[0m \u001b[38;5;28;01mreturn\u001b[39;00m output \u001b[38;5;28;01mif\u001b[39;00m \u001b[38;5;28mself\u001b[39m\u001b[38;5;241m.\u001b[39mreturn_generator \u001b[38;5;28;01melse\u001b[39;00m \u001b[38;5;28;43mlist\u001b[39;49m\u001b[43m(\u001b[49m\u001b[43moutput\u001b[49m\u001b[43m)\u001b[49m\n",
      "File \u001b[0;32m~/miniconda3/envs/pint-devel/lib/python3.12/site-packages/joblib/parallel.py:1703\u001b[0m, in \u001b[0;36mParallel._get_outputs\u001b[0;34m(self, iterator, pre_dispatch)\u001b[0m\n\u001b[1;32m   1701\u001b[0m \u001b[38;5;28;01mexcept\u001b[39;00m \u001b[38;5;167;01mBaseException\u001b[39;00m:\n\u001b[1;32m   1702\u001b[0m     \u001b[38;5;28mself\u001b[39m\u001b[38;5;241m.\u001b[39m_exception \u001b[38;5;241m=\u001b[39m \u001b[38;5;28;01mTrue\u001b[39;00m\n\u001b[0;32m-> 1703\u001b[0m     \u001b[38;5;28;43mself\u001b[39;49m\u001b[38;5;241;43m.\u001b[39;49m\u001b[43m_abort\u001b[49m\u001b[43m(\u001b[49m\u001b[43m)\u001b[49m\n\u001b[1;32m   1704\u001b[0m     \u001b[38;5;28;01mraise\u001b[39;00m\n\u001b[1;32m   1705\u001b[0m \u001b[38;5;28;01mfinally\u001b[39;00m:\n\u001b[1;32m   1706\u001b[0m     \u001b[38;5;66;03m# Store the unconsumed tasks and terminate the workers if necessary\u001b[39;00m\n",
      "File \u001b[0;32m~/miniconda3/envs/pint-devel/lib/python3.12/site-packages/joblib/parallel.py:1614\u001b[0m, in \u001b[0;36mParallel._abort\u001b[0;34m(self)\u001b[0m\n\u001b[1;32m   1609\u001b[0m \u001b[38;5;28;01mif\u001b[39;00m (\u001b[38;5;129;01mnot\u001b[39;00m \u001b[38;5;28mself\u001b[39m\u001b[38;5;241m.\u001b[39m_aborted \u001b[38;5;129;01mand\u001b[39;00m \u001b[38;5;28mhasattr\u001b[39m(backend, \u001b[38;5;124m'\u001b[39m\u001b[38;5;124mabort_everything\u001b[39m\u001b[38;5;124m'\u001b[39m)):\n\u001b[1;32m   1610\u001b[0m     \u001b[38;5;66;03m# If the backend is managed externally we need to make sure\u001b[39;00m\n\u001b[1;32m   1611\u001b[0m     \u001b[38;5;66;03m# to leave it in a working state to allow for future jobs\u001b[39;00m\n\u001b[1;32m   1612\u001b[0m     \u001b[38;5;66;03m# scheduling.\u001b[39;00m\n\u001b[1;32m   1613\u001b[0m     ensure_ready \u001b[38;5;241m=\u001b[39m \u001b[38;5;28mself\u001b[39m\u001b[38;5;241m.\u001b[39m_managed_backend\n\u001b[0;32m-> 1614\u001b[0m     \u001b[43mbackend\u001b[49m\u001b[38;5;241;43m.\u001b[39;49m\u001b[43mabort_everything\u001b[49m\u001b[43m(\u001b[49m\u001b[43mensure_ready\u001b[49m\u001b[38;5;241;43m=\u001b[39;49m\u001b[43mensure_ready\u001b[49m\u001b[43m)\u001b[49m\n\u001b[1;32m   1615\u001b[0m \u001b[38;5;28mself\u001b[39m\u001b[38;5;241m.\u001b[39m_aborted \u001b[38;5;241m=\u001b[39m \u001b[38;5;28;01mTrue\u001b[39;00m\n",
      "File \u001b[0;32m~/miniconda3/envs/pint-devel/lib/python3.12/site-packages/joblib/_parallel_backends.py:620\u001b[0m, in \u001b[0;36mLokyBackend.abort_everything\u001b[0;34m(self, ensure_ready)\u001b[0m\n\u001b[1;32m    617\u001b[0m \u001b[38;5;28;01mdef\u001b[39;00m \u001b[38;5;21mabort_everything\u001b[39m(\u001b[38;5;28mself\u001b[39m, ensure_ready\u001b[38;5;241m=\u001b[39m\u001b[38;5;28;01mTrue\u001b[39;00m):\n\u001b[1;32m    618\u001b[0m \u001b[38;5;250m    \u001b[39m\u001b[38;5;124;03m\"\"\"Shutdown the workers and restart a new one with the same parameters\u001b[39;00m\n\u001b[1;32m    619\u001b[0m \u001b[38;5;124;03m    \"\"\"\u001b[39;00m\n\u001b[0;32m--> 620\u001b[0m     \u001b[38;5;28;43mself\u001b[39;49m\u001b[38;5;241;43m.\u001b[39;49m\u001b[43m_workers\u001b[49m\u001b[38;5;241;43m.\u001b[39;49m\u001b[43mterminate\u001b[49m\u001b[43m(\u001b[49m\u001b[43mkill_workers\u001b[49m\u001b[38;5;241;43m=\u001b[39;49m\u001b[38;5;28;43;01mTrue\u001b[39;49;00m\u001b[43m)\u001b[49m\n\u001b[1;32m    621\u001b[0m     \u001b[38;5;28mself\u001b[39m\u001b[38;5;241m.\u001b[39m_workers \u001b[38;5;241m=\u001b[39m \u001b[38;5;28;01mNone\u001b[39;00m\n\u001b[1;32m    623\u001b[0m     \u001b[38;5;28;01mif\u001b[39;00m ensure_ready:\n",
      "File \u001b[0;32m~/miniconda3/envs/pint-devel/lib/python3.12/site-packages/joblib/executor.py:75\u001b[0m, in \u001b[0;36mMemmappingExecutor.terminate\u001b[0;34m(self, kill_workers)\u001b[0m\n\u001b[1;32m     73\u001b[0m \u001b[38;5;28;01mdef\u001b[39;00m \u001b[38;5;21mterminate\u001b[39m(\u001b[38;5;28mself\u001b[39m, kill_workers\u001b[38;5;241m=\u001b[39m\u001b[38;5;28;01mFalse\u001b[39;00m):\n\u001b[0;32m---> 75\u001b[0m     \u001b[38;5;28;43mself\u001b[39;49m\u001b[38;5;241;43m.\u001b[39;49m\u001b[43mshutdown\u001b[49m\u001b[43m(\u001b[49m\u001b[43mkill_workers\u001b[49m\u001b[38;5;241;43m=\u001b[39;49m\u001b[43mkill_workers\u001b[49m\u001b[43m)\u001b[49m\n\u001b[1;32m     77\u001b[0m     \u001b[38;5;66;03m# When workers are killed in a brutal manner, they cannot execute the\u001b[39;00m\n\u001b[1;32m     78\u001b[0m     \u001b[38;5;66;03m# finalizer of their shared memmaps. The refcount of those memmaps may\u001b[39;00m\n\u001b[1;32m     79\u001b[0m     \u001b[38;5;66;03m# be off by an unknown number, so instead of decref'ing them, we force\u001b[39;00m\n\u001b[0;32m   (...)\u001b[0m\n\u001b[1;32m     84\u001b[0m     \u001b[38;5;66;03m# with allow_non_empty=True but if we can't, it will be clean up later\u001b[39;00m\n\u001b[1;32m     85\u001b[0m     \u001b[38;5;66;03m# on by the resource_tracker.\u001b[39;00m\n\u001b[1;32m     86\u001b[0m     \u001b[38;5;28;01mwith\u001b[39;00m \u001b[38;5;28mself\u001b[39m\u001b[38;5;241m.\u001b[39m_submit_resize_lock:\n",
      "File \u001b[0;32m~/miniconda3/envs/pint-devel/lib/python3.12/site-packages/joblib/externals/loky/process_executor.py:1303\u001b[0m, in \u001b[0;36mProcessPoolExecutor.shutdown\u001b[0;34m(self, wait, kill_workers)\u001b[0m\n\u001b[1;32m   1299\u001b[0m \u001b[38;5;28;01mif\u001b[39;00m executor_manager_thread \u001b[38;5;129;01mis\u001b[39;00m \u001b[38;5;129;01mnot\u001b[39;00m \u001b[38;5;28;01mNone\u001b[39;00m \u001b[38;5;129;01mand\u001b[39;00m wait:\n\u001b[1;32m   1300\u001b[0m     \u001b[38;5;66;03m# This locks avoids concurrent join if the interpreter\u001b[39;00m\n\u001b[1;32m   1301\u001b[0m     \u001b[38;5;66;03m# is shutting down.\u001b[39;00m\n\u001b[1;32m   1302\u001b[0m     \u001b[38;5;28;01mwith\u001b[39;00m _global_shutdown_lock:\n\u001b[0;32m-> 1303\u001b[0m         \u001b[43mexecutor_manager_thread\u001b[49m\u001b[38;5;241;43m.\u001b[39;49m\u001b[43mjoin\u001b[49m\u001b[43m(\u001b[49m\u001b[43m)\u001b[49m\n\u001b[1;32m   1304\u001b[0m         _threads_wakeups\u001b[38;5;241m.\u001b[39mpop(executor_manager_thread, \u001b[38;5;28;01mNone\u001b[39;00m)\n\u001b[1;32m   1306\u001b[0m \u001b[38;5;66;03m# To reduce the risk of opening too many files, remove references to\u001b[39;00m\n\u001b[1;32m   1307\u001b[0m \u001b[38;5;66;03m# objects that use file descriptors.\u001b[39;00m\n",
      "File \u001b[0;32m~/miniconda3/envs/pint-devel/lib/python3.12/threading.py:1126\u001b[0m, in \u001b[0;36mThread.join\u001b[0;34m(self, timeout)\u001b[0m\n\u001b[1;32m   1123\u001b[0m     \u001b[38;5;28;01mraise\u001b[39;00m \u001b[38;5;167;01mRuntimeError\u001b[39;00m(\u001b[38;5;124m\"\u001b[39m\u001b[38;5;124mcannot join current thread\u001b[39m\u001b[38;5;124m\"\u001b[39m)\n\u001b[1;32m   1125\u001b[0m \u001b[38;5;28;01mif\u001b[39;00m timeout \u001b[38;5;129;01mis\u001b[39;00m \u001b[38;5;28;01mNone\u001b[39;00m:\n\u001b[0;32m-> 1126\u001b[0m     \u001b[38;5;28;43mself\u001b[39;49m\u001b[38;5;241;43m.\u001b[39;49m\u001b[43m_wait_for_tstate_lock\u001b[49m\u001b[43m(\u001b[49m\u001b[43m)\u001b[49m\n\u001b[1;32m   1127\u001b[0m \u001b[38;5;28;01melse\u001b[39;00m:\n\u001b[1;32m   1128\u001b[0m     \u001b[38;5;66;03m# the behavior of a negative timeout isn't documented, but\u001b[39;00m\n\u001b[1;32m   1129\u001b[0m     \u001b[38;5;66;03m# historically .join(timeout=x) for x<0 has acted as if timeout=0\u001b[39;00m\n\u001b[1;32m   1130\u001b[0m     \u001b[38;5;28mself\u001b[39m\u001b[38;5;241m.\u001b[39m_wait_for_tstate_lock(timeout\u001b[38;5;241m=\u001b[39m\u001b[38;5;28mmax\u001b[39m(timeout, \u001b[38;5;241m0\u001b[39m))\n",
      "File \u001b[0;32m~/miniconda3/envs/pint-devel/lib/python3.12/threading.py:1146\u001b[0m, in \u001b[0;36mThread._wait_for_tstate_lock\u001b[0;34m(self, block, timeout)\u001b[0m\n\u001b[1;32m   1143\u001b[0m     \u001b[38;5;28;01mreturn\u001b[39;00m\n\u001b[1;32m   1145\u001b[0m \u001b[38;5;28;01mtry\u001b[39;00m:\n\u001b[0;32m-> 1146\u001b[0m     \u001b[38;5;28;01mif\u001b[39;00m \u001b[43mlock\u001b[49m\u001b[38;5;241;43m.\u001b[39;49m\u001b[43macquire\u001b[49m\u001b[43m(\u001b[49m\u001b[43mblock\u001b[49m\u001b[43m,\u001b[49m\u001b[43m \u001b[49m\u001b[43mtimeout\u001b[49m\u001b[43m)\u001b[49m:\n\u001b[1;32m   1147\u001b[0m         lock\u001b[38;5;241m.\u001b[39mrelease()\n\u001b[1;32m   1148\u001b[0m         \u001b[38;5;28mself\u001b[39m\u001b[38;5;241m.\u001b[39m_stop()\n",
      "\u001b[0;31mKeyboardInterrupt\u001b[0m: "
     ]
    }
   ],
   "source": [
    "results = Parallel(n_jobs=8)(delayed(simulate_and_measure)() for i in range(500))"
   ]
  },
  {
   "cell_type": "code",
   "execution_count": 24,
   "id": "249f2c1d-7d08-487f-ab88-7574e847760d",
   "metadata": {
    "scrolled": true
   },
   "outputs": [],
   "source": [
    "# Lines commented out to avoid accidentally rewriting the files. \n",
    "\n",
    "# m.write_parfile(\"simulations/sim3.par\")\n",
    "# t.write_TOA_file(\"simulations/sim3.tim\")"
   ]
  },
  {
   "cell_type": "code",
   "execution_count": 25,
   "id": "e3644616-1cde-44c2-9b25-f8e2ce9dda54",
   "metadata": {},
   "outputs": [],
   "source": [
    "m1 = deepcopy(m)\n",
    "m1.remove_component(\"PLRedNoise\")\n",
    "\n",
    "Tspan = t.get_mjds().max() - t.get_mjds().min()\n",
    "wavex_setup(m1, Tspan, n_freqs=45)\n",
    "\n",
    "# Lines commented out to avoid accidentally rewriting the files.\n",
    "# m1.write_parfile(\"simulations/sim3.wx.par\")"
   ]
  }
 ],
 "metadata": {
  "kernelspec": {
   "display_name": "Python 3 (ipykernel)",
   "language": "python",
   "name": "python3"
  },
  "language_info": {
   "codemirror_mode": {
    "name": "ipython",
    "version": 3
   },
   "file_extension": ".py",
   "mimetype": "text/x-python",
   "name": "python",
   "nbconvert_exporter": "python",
   "pygments_lexer": "ipython3",
   "version": "3.12.0"
  }
 },
 "nbformat": 4,
 "nbformat_minor": 5
}
