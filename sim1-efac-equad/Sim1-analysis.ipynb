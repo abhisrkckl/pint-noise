{
 "cells": [
  {
   "cell_type": "markdown",
   "id": "0b0954b0-0a02-4a52-815a-9d61b25cf3b9",
   "metadata": {},
   "source": [
    "# White noise fitting example (EFAC and EQUAD)\n",
    "\n",
    "This notebook corresponds to Section 6.1 of Susobhanan+ 2024."
   ]
  },
  {
   "cell_type": "code",
   "execution_count": 1,
   "id": "acd2cc62-380f-49a1-9586-2e979cdcbed3",
   "metadata": {},
   "outputs": [
    {
     "name": "stdout",
     "output_type": "stream",
     "text": [
      "Warning: cannot find astropy, units support will not be available.\n",
      "Optional mpi4py package is not installed.  MPI support is not available.\n",
      "Optional acor package is not installed. Acor is optionally used to calculate the effective chain length for output in the chain file.\n"
     ]
    }
   ],
   "source": [
    "from enterprise.pulsar import Pulsar\n",
    "from enterprise.signals.white_signals import MeasurementNoise\n",
    "from enterprise.signals.gp_signals import TimingModel\n",
    "from enterprise.signals.signal_base import PTA\n",
    "from enterprise.signals.parameter import Uniform, LinearExp\n",
    "from enterprise.signals.selections import Selection, no_selection\n",
    "\n",
    "from pint.models import get_model_and_toas\n",
    "from pint.fitter import Fitter\n",
    "from pint.logging import setup as setup_log\n",
    "from pint.utils import akaike_information_criterion\n",
    "from pint.output.publish import publish\n",
    "\n",
    "from PTMCMCSampler.PTMCMCSampler import PTSampler\n",
    "\n",
    "import numpy as np\n",
    "import corner\n",
    "from matplotlib import pyplot as plt\n",
    "from copy import deepcopy"
   ]
  },
  {
   "cell_type": "code",
   "execution_count": 2,
   "id": "7bd00e87-5b1b-48ec-82f2-2f5d0cc7108c",
   "metadata": {},
   "outputs": [
    {
     "data": {
      "text/plain": [
       "1"
      ]
     },
     "execution_count": 2,
     "metadata": {},
     "output_type": "execute_result"
    }
   ],
   "source": [
    "# Suppress annoying messages.\n",
    "setup_log(level=\"WARNING\")"
   ]
  },
  {
   "cell_type": "code",
   "execution_count": 3,
   "id": "d58dd3f4-977c-4d9d-9de0-7a4f74b576ca",
   "metadata": {},
   "outputs": [],
   "source": [
    "m, t = get_model_and_toas(\"sim1.par\", \"sim1.tim\", planets=True)"
   ]
  },
  {
   "cell_type": "code",
   "execution_count": 4,
   "id": "811bd1e4-52b9-4aa9-92e7-45ffeb1e97e4",
   "metadata": {},
   "outputs": [
    {
     "name": "stdout",
     "output_type": "stream",
     "text": [
      "# Created: 2024-04-23T12:49:36.735146\n",
      "# PINT_version: 0.9.8+313.gbdb54a71\n",
      "# User: Abhimanyu Susobhanan (abhimanyu)\n",
      "# Host: abhimanyu-HP-Envy-x360-2-in-1-Laptop-15-fh0xxx\n",
      "# OS: Linux-6.5.0-28-generic-x86_64-with-glibc2.35\n",
      "# Python: 3.10.13 (main, Sep 11 2023, 13:44:35) [GCC 11.2.0]\n",
      "# Format: pint\n",
      "PSR                                  SIM1\n",
      "EPHEM                               DE440\n",
      "CLOCK                        TT(BIPM2019)\n",
      "UNITS                                 TDB\n",
      "DILATEFREQ                              N\n",
      "DMDATA                                  N\n",
      "NTOA                                    0\n",
      "RAJ                      5:00:00.00000000 1 0.00000000000000000000\n",
      "DECJ                    15:00:00.00000000 1 0.00000000000000000000\n",
      "PMRA                                  0.0\n",
      "PMDEC                                 0.0\n",
      "PX                                    0.0\n",
      "F0                                  100.0 1 0.0\n",
      "F1                                 -1e-15 1 0.0\n",
      "PEPOCH             55000.0000000000000000\n",
      "TZRMJD             55000.0000000000000000\n",
      "TZRSITE                               gbt\n",
      "TZRFRQ                             1400.0\n",
      "PHOFF                                 0.0 1 0.0\n",
      "EFAC            tel gbt                       1.5 1 0.0\n",
      "EQUAD           tel gbt                       1.1 1 0.0\n",
      "PLANET_SHAPIRO                          N\n",
      "DM                                   15.0 1 0.0\n",
      "\n"
     ]
    }
   ],
   "source": [
    "print(m)"
   ]
  },
  {
   "cell_type": "markdown",
   "id": "a0697459",
   "metadata": {},
   "source": [
    "## Model comparison using AIC\n",
    "\n",
    "What components are required? EFAC or EQUAD or both or neither?"
   ]
  },
  {
   "cell_type": "code",
   "execution_count": 5,
   "id": "a6d51fc6-c8a4-4cfa-9d64-b8b3061c39d6",
   "metadata": {},
   "outputs": [
    {
     "name": "stdout",
     "output_type": "stream",
     "text": [
      "[[   0.  198.]\n",
      " [  44. 5191.]]\n"
     ]
    }
   ],
   "source": [
    "result = np.zeros((2,2))\n",
    "for eff in [True, False]:\n",
    "    for eqf in [True, False]:\n",
    "        m1 = deepcopy(m)\n",
    "        m1.EFAC1.value = 1\n",
    "        m1.EQUAD1.value = 1e-4\n",
    "        m1.EFAC1.frozen = not eff\n",
    "        m1.EQUAD1.frozen = not eqf\n",
    "\n",
    "        ftr = Fitter.auto(t, m1)\n",
    "        ftr.fit_toas(noise_fit_niter=5)\n",
    "\n",
    "        fp = set(m1.free_params).intersection([\"EFAC1\", \"EQUAD1\"])\n",
    "        \n",
    "        result[int(not eff), int(not eqf)] = akaike_information_criterion(ftr.model, t)\n",
    "\n",
    "print(np.round(result - np.min(result)))"
   ]
  },
  {
   "cell_type": "markdown",
   "id": "b15679f9",
   "metadata": {},
   "source": [
    "AIC seems to favour EFAC + EQUAD."
   ]
  },
  {
   "cell_type": "markdown",
   "id": "9b24b47e",
   "metadata": {},
   "source": [
    "## Fitting for EFAC and EQUAD using PINT"
   ]
  },
  {
   "cell_type": "code",
   "execution_count": 6,
   "id": "bb9a6073-2300-4e4f-89a7-df2578911015",
   "metadata": {},
   "outputs": [],
   "source": [
    "# Let us fit for both EFAC & EQUAD.\n",
    "# The original model has both of them already. \n",
    "# So we can use it as it is.\n",
    "ftr = Fitter.auto(t, m)\n",
    "ftr.fit_toas()"
   ]
  },
  {
   "cell_type": "code",
   "execution_count": 7,
   "id": "84a0d891-6f9d-40b8-93e7-ac7773b4d83a",
   "metadata": {},
   "outputs": [
    {
     "name": "stdout",
     "output_type": "stream",
     "text": [
      "# Created: 2024-04-23T12:50:07.692103\n",
      "# PINT_version: 0.9.8+313.gbdb54a71\n",
      "# User: Abhimanyu Susobhanan (abhimanyu)\n",
      "# Host: abhimanyu-HP-Envy-x360-2-in-1-Laptop-15-fh0xxx\n",
      "# OS: Linux-6.5.0-28-generic-x86_64-with-glibc2.35\n",
      "# Python: 3.10.13 (main, Sep 11 2023, 13:44:35) [GCC 11.2.0]\n",
      "# Format: pint\n",
      "PSR                                  SIM1\n",
      "EPHEM                               DE440\n",
      "CLOCK                        TT(BIPM2019)\n",
      "UNITS                                 TDB\n",
      "START              53000.9999999567183797\n",
      "FINISH             56985.0000000464162847\n",
      "DILATEFREQ                              N\n",
      "DMDATA                                  N\n",
      "NTOA                                 2000\n",
      "CHI2                   2000.0000000022656\n",
      "CHI2R                  1.0045203415380541\n",
      "TRES                2.4134591611789330881\n",
      "RAJ                      4:59:59.99999598 1 0.00000275770694145185\n",
      "DECJ                    15:00:00.00027474 1 0.00023540336077444333\n",
      "PMRA                                  0.0\n",
      "PMDEC                                 0.0\n",
      "PX                                    0.0\n",
      "F0                  100.00000000000007972 1 5.4097092903470269224e-14\n",
      "F1              -9.999984808011723588e-16 1 1.1989380104569931398e-21\n",
      "PEPOCH             55000.0000000000000000\n",
      "TZRMJD             55000.0000000000000000\n",
      "TZRSITE                               gbt\n",
      "TZRFRQ                             1400.0\n",
      "PHOFF              1.1804630710825205e-05 1 1.0717562119001265e-05\n",
      "EFAC            tel gbt        1.5062639754806224 1 0.06591804373126589\n",
      "EQUAD           tel gbt         1.104791799839125 1 0.09482570185822473\n",
      "PLANET_SHAPIRO                          N\n",
      "DM                  14.999995802584410624 1 1.1509818375234481333e-05\n",
      "\n"
     ]
    }
   ],
   "source": [
    "# Look at the post-fit model.\n",
    "# Both EFAC and EQUAD have been estimated, along with their uncertainties.\n",
    "print(ftr.model)"
   ]
  },
  {
   "cell_type": "markdown",
   "id": "c27228fe",
   "metadata": {},
   "source": [
    "## Bayesian parameter estimation using ENTERPRISE & PTMCMCSampler"
   ]
  },
  {
   "cell_type": "code",
   "execution_count": 8,
   "id": "3eddbfec-bd21-4275-9cd7-84dda7e5bfa5",
   "metadata": {},
   "outputs": [
    {
     "name": "stderr",
     "output_type": "stream",
     "text": [
      "WARNING: Could not find pulsar distance for PSR SIM1. Setting value to 1 with 20% uncertainty.\n"
     ]
    }
   ],
   "source": [
    "psr = Pulsar(ftr.model, t)"
   ]
  },
  {
   "cell_type": "code",
   "execution_count": 9,
   "id": "7d89fd18-9957-4020-b700-a33fc7274af3",
   "metadata": {},
   "outputs": [],
   "source": [
    "tm = TimingModel()\n",
    "wn = MeasurementNoise(efac=Uniform(0.5, 2.0), log10_t2equad=LinearExp(-8, -4))"
   ]
  },
  {
   "cell_type": "code",
   "execution_count": 10,
   "id": "76b438c8-7ffb-46d1-b686-bbba30de83ea",
   "metadata": {},
   "outputs": [],
   "source": [
    "model = tm + wn"
   ]
  },
  {
   "cell_type": "code",
   "execution_count": 11,
   "id": "d338e0e9-db05-45df-86c7-f94612581005",
   "metadata": {},
   "outputs": [],
   "source": [
    "pta = PTA([model(psr)])"
   ]
  },
  {
   "cell_type": "code",
   "execution_count": 12,
   "id": "5401410a-1ab4-4f44-8a6d-25f70c512db2",
   "metadata": {},
   "outputs": [],
   "source": [
    "ndim = len(pta.param_names)\n",
    "x0 = np.array([p.sample() for p in pta.params])\n",
    "cov = np.diag(np.ones(ndim)) * 1e-4\n",
    "outdir = \"chains/sim1/\"\n",
    "Niter = 100000"
   ]
  },
  {
   "cell_type": "code",
   "execution_count": 13,
   "id": "f713802e-2039-451e-b705-ba1af0ed3e1d",
   "metadata": {},
   "outputs": [],
   "source": [
    "sampler = PTSampler(\n",
    "    ndim,\n",
    "    pta.get_lnlikelihood,\n",
    "    pta.get_lnprior,\n",
    "    cov,\n",
    "    outDir=outdir,\n",
    ")"
   ]
  },
  {
   "cell_type": "code",
   "execution_count": 14,
   "id": "55f7198e-6746-46f4-ae91-354ba58dc97c",
   "metadata": {},
   "outputs": [
    {
     "name": "stderr",
     "output_type": "stream",
     "text": [
      "\u001b[33m\u001b[1mWARNING \u001b[0m (pint.logging                  ): \u001b[33m\u001b[1m/home/abhimanyu/miniconda3/envs/pint-noise/lib/python3.10/site-packages/enterprise/signals/parameter.py:62 RuntimeWarning: divide by zero encountered in log\u001b[0m\n"
     ]
    },
    {
     "name": "stdout",
     "output_type": "stream",
     "text": [
      "Finished 10.00 percent in 7.473704 s Acceptance rate = 0.09683Adding DE jump with weight 20\n",
      "Finished 99.00 percent in 61.889279 s Acceptance rate = 0.245028\n",
      "Run Complete\n"
     ]
    }
   ],
   "source": [
    "sampler.sample(\n",
    "    x0,\n",
    "    Niter,\n",
    ")"
   ]
  },
  {
   "cell_type": "code",
   "execution_count": 15,
   "id": "715934c1-9d89-4b6b-923f-156d01534b93",
   "metadata": {},
   "outputs": [],
   "source": [
    "chain = np.genfromtxt(f\"{outdir}/chain_1.txt\")\n",
    "burn = chain.shape[0]//5\n",
    "burned_chain = chain[burn:, :-4]\n",
    "burned_chain[:, 1] = 10**burned_chain[:, 1] * 1e6"
   ]
  },
  {
   "cell_type": "code",
   "execution_count": 16,
   "id": "0663b156-c74b-4dd3-8de8-0e505af2ae5b",
   "metadata": {},
   "outputs": [
    {
     "data": {
      "image/png": "[encoded data removed]",
      "text/plain": [
       "<Figure size 550x550 with 4 Axes>"
      ]
     },
     "metadata": {},
     "output_type": "display_data"
    }
   ],
   "source": [
    "fig = corner.corner(\n",
    "    burned_chain, \n",
    "    labels=[\"EFAC\", \"EQUAD ($\\\\mu$s)\"], \n",
    "    truths=[m.EFAC1.value, m.EQUAD1.quantity.value],\n",
    ")\n",
    "\n",
    "plt.subplot(223)\n",
    "plt.errorbar(\n",
    "    [ftr.model.EFAC1.value], \n",
    "    [ftr.model.EQUAD1.value],\n",
    "    xerr=[ftr.model.EFAC1.uncertainty_value], \n",
    "    yerr=[ftr.model.EQUAD1.uncertainty_value],\n",
    "    color=\"red\",\n",
    "    marker=\".\"\n",
    ")\n",
    "\n",
    "plt.savefig(\"sim1.pdf\")"
   ]
  },
  {
   "cell_type": "markdown",
   "id": "0dcdf338",
   "metadata": {},
   "source": [
    "The ENTERPRISE and PINT estimates match really well!"
   ]
  },
  {
   "cell_type": "markdown",
   "id": "8ceb556a",
   "metadata": {},
   "source": [
    "New let's look at the post-fit residuals. It looks like white noise, as it should."
   ]
  },
  {
   "cell_type": "code",
   "execution_count": 17,
   "id": "1c90ba19-550d-42ae-8902-72b3de7dba21",
   "metadata": {},
   "outputs": [
    {
     "data": {
      "image/png": "[encoded data removed]",
      "text/plain": [
       "<Figure size 700x400 with 1 Axes>"
      ]
     },
     "metadata": {},
     "output_type": "display_data"
    }
   ],
   "source": [
    "plt.figure(figsize=(7, 4))\n",
    "plt.errorbar(ftr.toas.get_mjds(), ftr.resids.time_resids.to(\"us\"), ftr.resids.get_data_error().to(\"us\"), ls=\"\", marker=\"+\")\n",
    "plt.ylabel(\"Residuals ($\\\\mu$s)\")\n",
    "plt.xlabel(\"MJD\")\n",
    "plt.savefig(\"sim1-resids.pdf\")"
   ]
  },
  {
   "cell_type": "code",
   "execution_count": null,
   "id": "0b34ed20",
   "metadata": {},
   "outputs": [],
   "source": []
  }
 ],
 "metadata": {
  "kernelspec": {
   "display_name": "Python 3 (ipykernel)",
   "language": "python",
   "name": "python3"
  },
  "language_info": {
   "codemirror_mode": {
    "name": "ipython",
    "version": 3
   },
   "file_extension": ".py",
   "mimetype": "text/x-python",
   "name": "python",
   "nbconvert_exporter": "python",
   "pygments_lexer": "ipython3",
   "version": "3.9.19"
  }
 },
 "nbformat": 4,
 "nbformat_minor": 5
}
