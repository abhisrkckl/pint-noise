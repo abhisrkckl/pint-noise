{
 "cells": [
  {
   "cell_type": "markdown",
   "id": "122478b2",
   "metadata": {},
   "source": [
    "## Notebook for creating Simulation 1 \n",
    "\n",
    "See Section 6.1 of Susobhanan+ 2024."
   ]
  },
  {
   "cell_type": "code",
   "execution_count": null,
   "id": "49c36662",
   "metadata": {},
   "outputs": [],
   "source": [
    "from pint.models import get_model\n",
    "from pint.simulation import make_fake_toas_uniform\n",
    "from pint.logging import setup as setup_log\n",
    "from pint.fitter import Fitter\n",
    "\n",
    "from io import StringIO\n",
    "import numpy as np\n",
    "import astropy.units as u\n",
    "from tqdm import tqdm\n",
    "from matplotlib import pyplot as plt"
   ]
  },
  {
   "cell_type": "code",
   "execution_count": 10,
   "id": "fa228892-6831-43b6-ac0f-7de3bbda2302",
   "metadata": {},
   "outputs": [
    {
     "data": {
      "text/plain": [
       "2"
      ]
     },
     "execution_count": 10,
     "metadata": {},
     "output_type": "execute_result"
    }
   ],
   "source": [
    "setup_log(level=\"WARNING\")"
   ]
  },
  {
   "cell_type": "code",
   "execution_count": 11,
   "id": "cb2c4e61-96c0-4970-a086-f775cb5b8ad6",
   "metadata": {},
   "outputs": [],
   "source": [
    "par = \"\"\"\n",
    "    PSR             SIM1\n",
    "    RAJ             05:00:00     1\n",
    "    DECJ            15:00:00     1\n",
    "    PEPOCH          55000\n",
    "    F0              100          1\n",
    "    F1              -1e-15       1 \n",
    "    PHOFF           0            1\n",
    "    DM              15           1\n",
    "    EFAC tel gbt    1.5          1\n",
    "    EQUAD tel gbt   1.1          1\n",
    "    TZRMJD          55000\n",
    "    TZRFRQ          1400 \n",
    "    TZRSITE         gbt\n",
    "    UNITS           TDB\n",
    "    EPHEM           DE440\n",
    "    CLOCK           TT(BIPM2019)\n",
    "\"\"\""
   ]
  },
  {
   "cell_type": "code",
   "execution_count": 12,
   "id": "369a4c22-ea0b-4922-bc08-db73da412373",
   "metadata": {},
   "outputs": [],
   "source": [
    "m = get_model(StringIO(par))"
   ]
  },
  {
   "cell_type": "code",
   "execution_count": 13,
   "id": "0dac6c43-9c66-440a-9cb6-ca8086dd9b03",
   "metadata": {},
   "outputs": [],
   "source": [
    "ntoas = 2000\n",
    "toaerrs = np.random.uniform(0.5, 2.0, ntoas) * u.us\n",
    "freqs = np.linspace(500, 1500, 8) * u.MHz"
   ]
  },
  {
   "cell_type": "code",
   "execution_count": 16,
   "id": "5c64bf48-54a7-4a90-83b0-f6a44cc76dd3",
   "metadata": {},
   "outputs": [],
   "source": [
    "t = make_fake_toas_uniform(\n",
    "    startMJD=53001,\n",
    "    endMJD=57001,\n",
    "    ntoas=ntoas,\n",
    "    model=m,\n",
    "    freq=freqs,\n",
    "    obs='gbt',\n",
    "    error=toaerrs,\n",
    "    add_noise=True,\n",
    "    name='fake',\n",
    "    include_bipm=True,\n",
    "    include_gps=True,\n",
    "    multi_freqs_in_epoch=True,\n",
    ")"
   ]
  },
  {
   "cell_type": "code",
   "execution_count": 17,
   "id": "249f2c1d-7d08-487f-ab88-7574e847760d",
   "metadata": {},
   "outputs": [],
   "source": [
    "# These are commented out so that the simulated files don't get rewritten accidentally.\n",
    "\n",
    "# m.write_parfile(\"sim1.par\")\n",
    "# t.write_TOA_file(\"sim1.tim\")"
   ]
  }
 ],
 "metadata": {
  "kernelspec": {
   "display_name": "Python 3 (ipykernel)",
   "language": "python",
   "name": "python3"
  },
  "language_info": {
   "codemirror_mode": {
    "name": "ipython",
    "version": 3
   },
   "file_extension": ".py",
   "mimetype": "text/x-python",
   "name": "python",
   "nbconvert_exporter": "python",
   "pygments_lexer": "ipython3",
   "version": "3.10.13"
  }
 },
 "nbformat": 4,
 "nbformat_minor": 5
}
