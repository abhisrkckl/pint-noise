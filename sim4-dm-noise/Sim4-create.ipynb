{
 "cells": [
  {
   "cell_type": "code",
   "execution_count": 1,
   "id": "44eee1ef-af2e-4222-8fc1-d4e14f2e79e2",
   "metadata": {},
   "outputs": [],
   "source": [
    "from pint.models import get_model\n",
    "from pint.simulation import make_fake_toas_uniform, make_fake_toas_fromtim\n",
    "from pint.logging import setup as setup_log\n",
    "from pint.fitter import Fitter\n",
    "from pint.utils import dmwavex_setup\n",
    "\n",
    "from io import StringIO\n",
    "import numpy as np\n",
    "import astropy.units as u\n",
    "from copy import deepcopy\n",
    "from tqdm import tqdm\n",
    "from matplotlib import pyplot as plt"
   ]
  },
  {
   "cell_type": "code",
   "execution_count": 2,
   "id": "fa228892-6831-43b6-ac0f-7de3bbda2302",
   "metadata": {},
   "outputs": [
    {
     "data": {
      "text/plain": [
       "1"
      ]
     },
     "execution_count": 2,
     "metadata": {},
     "output_type": "execute_result"
    }
   ],
   "source": [
    "setup_log(level=\"WARNING\")"
   ]
  },
  {
   "cell_type": "code",
   "execution_count": 3,
   "id": "cb2c4e61-96c0-4970-a086-f775cb5b8ad6",
   "metadata": {},
   "outputs": [],
   "source": [
    "par_sim = \"\"\"\n",
    "    PSR           SIM2\n",
    "    RAJ           05:00:00     1\n",
    "    DECJ          15:00:00     1\n",
    "    PEPOCH        55000\n",
    "    F0            100          1\n",
    "    F1            -1e-15       1 \n",
    "    PHOFF         0            1\n",
    "    DM            15\n",
    "    TNDMAMP       -13.5\n",
    "    TNDMGAM       4\n",
    "    TNDMC         30\n",
    "    TZRMJD        55000\n",
    "    TZRFRQ        1400 \n",
    "    TZRSITE       gbt\n",
    "    UNITS         TDB\n",
    "    EPHEM         DE440\n",
    "    CLOCK         TT(BIPM2019)\n",
    "\"\"\""
   ]
  },
  {
   "cell_type": "code",
   "execution_count": 4,
   "id": "369a4c22-ea0b-4922-bc08-db73da412373",
   "metadata": {},
   "outputs": [],
   "source": [
    "m = get_model(StringIO(par_sim))"
   ]
  },
  {
   "cell_type": "code",
   "execution_count": 5,
   "id": "0dac6c43-9c66-440a-9cb6-ca8086dd9b03",
   "metadata": {},
   "outputs": [],
   "source": [
    "ntoas = 2000\n",
    "toaerrs = np.random.uniform(0.5, 2.0, ntoas) * u.us\n",
    "freqs = np.linspace(500, 1500, 8) * u.MHz"
   ]
  },
  {
   "cell_type": "code",
   "execution_count": 6,
   "id": "5c64bf48-54a7-4a90-83b0-f6a44cc76dd3",
   "metadata": {},
   "outputs": [
    {
     "name": "stderr",
     "output_type": "stream",
     "text": [
      "\u001b[33m\u001b[1mWARNING \u001b[0m (pint.logging                  ): \u001b[33m\u001b[1m/home/abhimanyu/miniconda3/envs/pint-noise/lib/python3.10/site-packages/erfa/core.py:154 ErfaWarning: ERFA function \"dtf2d\" yielded 1 of \"dubious year (Note 6)\"\u001b[0m\n"
     ]
    }
   ],
   "source": [
    "t = make_fake_toas_uniform(\n",
    "    startMJD=53001,\n",
    "    endMJD=57001,\n",
    "    ntoas=ntoas,\n",
    "    model=m,\n",
    "    freq=freqs,\n",
    "    obs='gbt',\n",
    "    error=toaerrs,\n",
    "    add_noise=True,\n",
    "    add_correlated_noise=True,\n",
    "    multi_freqs_in_epoch=True,\n",
    "    name='fake',\n",
    "    include_bipm=True,\n",
    "    include_gps=True,\n",
    ")"
   ]
  },
  {
   "cell_type": "code",
   "execution_count": 7,
   "id": "249f2c1d-7d08-487f-ab88-7574e847760d",
   "metadata": {},
   "outputs": [],
   "source": [
    "m.write_parfile(\"simulations/sim4.par\")\n",
    "t.write_TOA_file(\"simulations/sim4.tim\")"
   ]
  },
  {
   "cell_type": "code",
   "execution_count": 8,
   "id": "5ac0c6e6-db0b-49a4-8572-310856733e23",
   "metadata": {},
   "outputs": [
    {
     "name": "stderr",
     "output_type": "stream",
     "text": [
      "\u001b[33m\u001b[1mWARNING \u001b[0m (pint.logging                  ): \u001b[33m\u001b[1m/home/abhimanyu/Work/PINT/src/pint/models/dmwavex.py:335 UserWarning: Frequency resolution is greater than 1/yr\u001b[0m\n"
     ]
    }
   ],
   "source": [
    "m1 = deepcopy(m)\n",
    "m1.remove_component(\"PLDMNoise\")\n",
    "\n",
    "Tspan = t.get_mjds().max() - t.get_mjds().min()\n",
    "dmwavex_setup(m1, Tspan, n_freqs=45)\n",
    "\n",
    "m1.write_parfile(\"simulations/sim4.wx.par\")"
   ]
  },
  {
   "cell_type": "code",
   "execution_count": null,
   "id": "3bf83c9b-0bfe-481c-8c9b-5aa8d7795259",
   "metadata": {},
   "outputs": [],
   "source": []
  }
 ],
 "metadata": {
  "kernelspec": {
   "display_name": "Python 3 (ipykernel)",
   "language": "python",
   "name": "python3"
  },
  "language_info": {
   "codemirror_mode": {
    "name": "ipython",
    "version": 3
   },
   "file_extension": ".py",
   "mimetype": "text/x-python",
   "name": "python",
   "nbconvert_exporter": "python",
   "pygments_lexer": "ipython3",
   "version": "3.10.13"
  }
 },
 "nbformat": 4,
 "nbformat_minor": 5
}
