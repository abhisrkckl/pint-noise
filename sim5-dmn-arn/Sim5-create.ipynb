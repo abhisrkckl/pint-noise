{
 "cells": [
  {
   "cell_type": "markdown",
   "id": "293a5511",
   "metadata": {},
   "source": [
    "## Notebook for creating Simulation 5\n",
    "\n",
    "See Section 6.5 of Susobhanan+ 2024."
   ]
  },
  {
   "cell_type": "code",
   "execution_count": 14,
   "id": "9c50c4d8",
   "metadata": {},
   "outputs": [],
   "source": [
    "from pint.models import get_model\n",
    "from pint.simulation import make_fake_toas_uniform\n",
    "from pint.logging import setup as setup_log\n",
    "from pint.utils import wavex_setup, dmwavex_setup\n",
    "\n",
    "from io import StringIO\n",
    "import numpy as np\n",
    "import astropy.units as u\n",
    "from copy import deepcopy"
   ]
  },
  {
   "cell_type": "code",
   "execution_count": 15,
   "id": "fa228892-6831-43b6-ac0f-7de3bbda2302",
   "metadata": {},
   "outputs": [
    {
     "data": {
      "text/plain": [
       "3"
      ]
     },
     "execution_count": 15,
     "metadata": {},
     "output_type": "execute_result"
    }
   ],
   "source": [
    "setup_log(level=\"WARNING\")"
   ]
  },
  {
   "cell_type": "code",
   "execution_count": 27,
   "id": "cb2c4e61-96c0-4970-a086-f775cb5b8ad6",
   "metadata": {},
   "outputs": [],
   "source": [
    "par_sim = \"\"\"\n",
    "    PSR           SIM3\n",
    "    RAJ           05:00:00     1\n",
    "    DECJ          15:00:00     1\n",
    "    PEPOCH        55000\n",
    "    F0            100          1\n",
    "    F1            -1e-15       1 \n",
    "    PHOFF         0            1\n",
    "    DM            15           1\n",
    "    DM1           0            1\n",
    "    DM2           0            1  \n",
    "    TNREDAMP      -13\n",
    "    TNREDGAM      3.5\n",
    "    TNREDC        30\n",
    "    TNDMAMP       -13.5\n",
    "    TNDMGAM       4\n",
    "    TNDMC         30\n",
    "    TZRMJD        55000\n",
    "    TZRFRQ        1400 \n",
    "    TZRSITE       gbt\n",
    "    UNITS         TDB\n",
    "    EPHEM         DE440\n",
    "    CLOCK         TT(BIPM2019)\n",
    "\"\"\""
   ]
  },
  {
   "cell_type": "code",
   "execution_count": 23,
   "id": "369a4c22-ea0b-4922-bc08-db73da412373",
   "metadata": {},
   "outputs": [],
   "source": [
    "m = get_model(StringIO(par_sim))"
   ]
  },
  {
   "cell_type": "code",
   "execution_count": 24,
   "id": "0dac6c43-9c66-440a-9cb6-ca8086dd9b03",
   "metadata": {},
   "outputs": [],
   "source": [
    "ntoas = 2000\n",
    "toaerrs = np.random.uniform(0.5, 2.0, ntoas) * u.us\n",
    "freqs = np.linspace(500, 1500, 8) * u.MHz"
   ]
  },
  {
   "cell_type": "code",
   "execution_count": 25,
   "id": "5c64bf48-54a7-4a90-83b0-f6a44cc76dd3",
   "metadata": {},
   "outputs": [],
   "source": [
    "t = make_fake_toas_uniform(\n",
    "    startMJD=53001,\n",
    "    endMJD=57001,\n",
    "    ntoas=ntoas,\n",
    "    model=m,\n",
    "    freq=freqs,\n",
    "    obs='gbt',\n",
    "    error=toaerrs,\n",
    "    add_noise=True,\n",
    "    add_correlated_noise=True,\n",
    "    name='fake',\n",
    "    include_bipm=True,\n",
    "    include_gps=True,\n",
    "    multi_freqs_in_epoch=True,\n",
    ")"
   ]
  },
  {
   "cell_type": "code",
   "execution_count": 26,
   "id": "249f2c1d-7d08-487f-ab88-7574e847760d",
   "metadata": {
    "scrolled": true
   },
   "outputs": [],
   "source": [
    "# Lines commented out to avoid accidentally rewriting the files. \n",
    "\n",
    "m.write_parfile(\"sim5.par\")\n",
    "t.write_TOA_file(\"sim5.tim\")"
   ]
  },
  {
   "cell_type": "code",
   "execution_count": 21,
   "id": "e3644616-1cde-44c2-9b25-f8e2ce9dda54",
   "metadata": {},
   "outputs": [],
   "source": [
    "m1 = deepcopy(m)\n",
    "m1.remove_component(\"PLRedNoise\")\n",
    "m1.remove_component(\"PLDMNoise\")\n",
    "\n",
    "Tspan = t.get_mjds().max() - t.get_mjds().min()\n",
    "wavex_setup(m1, Tspan, n_freqs=45, freeze_params=True)\n",
    "dmwavex_setup(m1, Tspan, n_freqs=45, freeze_params=True)\n",
    "\n",
    "# Lines commented out to avoid accidentally rewriting the files.\n",
    "m1.write_parfile(\"sim5.wx.par\")"
   ]
  }
 ],
 "metadata": {
  "kernelspec": {
   "display_name": "Python 3 (ipykernel)",
   "language": "python",
   "name": "python3"
  },
  "language_info": {
   "codemirror_mode": {
    "name": "ipython",
    "version": 3
   },
   "file_extension": ".py",
   "mimetype": "text/x-python",
   "name": "python",
   "nbconvert_exporter": "python",
   "pygments_lexer": "ipython3",
   "version": "3.9.19"
  }
 },
 "nbformat": 4,
 "nbformat_minor": 5
}
